{
  "nbformat": 4,
  "nbformat_minor": 0,
  "metadata": {
    "colab": {
      "name": "iris_classification.ipynb",
      "provenance": [],
      "authorship_tag": "ABX9TyP5kdW+XItw910UO8q7dQkz",
      "include_colab_link": true
    },
    "kernelspec": {
      "name": "python3",
      "display_name": "Python 3"
    },
    "language_info": {
      "name": "python"
    }
  },
  "cells": [
    {
      "cell_type": "markdown",
      "metadata": {
        "id": "view-in-github",
        "colab_type": "text"
      },
      "source": [
        "<a href=\"https://colab.research.google.com/github/kmuhan/kmuhandeeplearning/blob/main/iris_classification.ipynb\" target=\"_parent\"><img src=\"https://colab.research.google.com/assets/colab-badge.svg\" alt=\"Open In Colab\"/></a>"
      ]
    },
    {
      "cell_type": "code",
      "metadata": {
        "colab": {
          "base_uri": "https://localhost:8080/",
          "height": 473
        },
        "id": "9TErGFQR9dAg",
        "outputId": "09db2322-6876-413c-beb2-7f8dbf48d057"
      },
      "source": [
        "import numpy as np\n",
        "import matplotlib.pyplot as plt\n",
        "from sklearn import datasets\n",
        "\n",
        "iris_data = datasets.load_iris()\n",
        "input_data = iris_data.data\n",
        "correct = iris_data.target\n",
        "n_data = len(correct)\n",
        "\n",
        "ave_input = np.average(input_data, axis=0)\n",
        "std_input = np.std(input_data, axis=0)\n",
        "input_data = (input_data - ave_input) / std_input\n",
        "\n",
        "correct_data = np.zeros((n_data, 3)) # 150 X 3 짜리 행렬\n",
        "for i in range(n_data):\n",
        "  correct_data[i, correct[i]] = 1.0\n",
        "\n",
        "index = np.arange(n_data)\n",
        "index_train = index[index%2 == 0]\n",
        "index_test = index[index%2 != 0]\n",
        "\n",
        "input_train = input_data[index_train, :]\n",
        "correct_train = correct_data[index_train, :]\n",
        "input_test = input_data[index_test, :]\n",
        "correct_test = correct_data[index_test, :]\n",
        "\n",
        "n_train = len(input_train)\n",
        "n_test = len(input_test)\n",
        "\n",
        "n_in = 4\n",
        "n_mid = 25\n",
        "n_out = 3\n",
        "\n",
        "wb_width = 0.1\n",
        "eta = 0.01\n",
        "epoch = 1000\n",
        "batch_size = 8\n",
        "interval = 100\n",
        "\n",
        "class BaseLayer:\n",
        "  def __init__(self, n_upper, n):\n",
        "    self.w = wb_width * np.random.randn(n_upper, n)\n",
        "    self.b = wb_width * np.random.randn(n)\n",
        "\n",
        "  def update(self, eta):\n",
        "    self.w -= eta * self.grad_w\n",
        "    self.b -= eta * self.grad_b\n",
        "\n",
        "class MiddleLayer(BaseLayer):\n",
        "  def forward(self, x):\n",
        "    self.x = x\n",
        "    self.u = np.dot(x, self.w) + self.b\n",
        "    self.y = np.where(self.u <= 0, 0, self.u)\n",
        "  \n",
        "  def backward(self, grad_y):\n",
        "    delta = grad_y * np.where(self.u <= 0, 0, 1)\n",
        "\n",
        "    self.grad_w = np.dot(self.x.T, delta)\n",
        "    self.grad_b = np.sum(delta, axis=0)\n",
        "\n",
        "    self.grad_x = np.dot(delta, self.w.T)\n",
        "\n",
        "class OutputLayer(BaseLayer):\n",
        "  def forward(self, x):\n",
        "    self.x = x\n",
        "    u = np.dot(x, self.w) + self.b\n",
        "    self.y = np.exp(u)/np.sum(np.exp(u), axis=1, keepdims=True)\n",
        "  \n",
        "  def backward(self, t):\n",
        "    delta = self.y - t\n",
        "\n",
        "    self.grad_w = np.dot(self.x.T, delta)\n",
        "    self.grad_b = np.sum(delta, axis=0)\n",
        "\n",
        "    self.grad_x = np.dot(delta, self.w.T)\n",
        "  \n",
        "middle_layer_1 = MiddleLayer(n_in, n_mid)\n",
        "middle_layer_2 = MiddleLayer(n_mid, n_mid)\n",
        "output_layer = OutputLayer(n_mid, n_out)\n",
        "\n",
        "def forward_propagation(x):\n",
        "  middle_layer_1.forward(x)\n",
        "  middle_layer_2.forward(middle_layer_1.y)\n",
        "  output_layer.forward(middle_layer_2.y)\n",
        "\n",
        "def back_propagation(t):\n",
        "  output_layer.backward(t)\n",
        "  middle_layer_2.backward(output_layer.grad_x)\n",
        "  middle_layer_1.backward(middle_layer_2.grad_x)\n",
        "\n",
        "def update_wb():\n",
        "  middle_layer_1.update(eta)\n",
        "  middle_layer_2.update(eta)\n",
        "  output_layer.update(eta)\n",
        "\n",
        "def get_error(t, batch_size):\n",
        "  return -np.sum(t * np.log(output_layer.y + 1e-7)) / batch_size\n",
        "\n",
        "train_error_x = []\n",
        "train_error_y = []\n",
        "test_error_x = []\n",
        "test_error_y = []\n",
        "\n",
        "#미니 배치법 구현\n",
        "n_batch = n_train // batch_size\n",
        "for i in range(epoch):\n",
        "\n",
        "  forward_propagation(input_train)\n",
        "  error_train = get_error(correct_train, n_train)\n",
        "  forward_propagation(input_test)\n",
        "  error_test = get_error(correct_test, n_test)\n",
        "\n",
        "  test_error_x.append(i)\n",
        "  test_error_y.append(error_test)\n",
        "  train_error_x.append(i)\n",
        "  train_error_y.append(error_train)\n",
        "\n",
        "  if i%interval == 0:\n",
        "    print(\"Epoch: \" + str(i) + \"/\" + str(epoch),\n",
        "          \"Error_train : \" + str(error_train),\n",
        "          \"Error_test: \" + str(error_test))\n",
        "\n",
        "  index_random = np.arange(n_train)\n",
        "  np.random.shuffle(index_random)\n",
        "\n",
        "  for j in range(n_batch):\n",
        "    mb_index = index_random[j*batch_size : (j+1)*batch_size]\n",
        "    x = input_train[mb_index, :]\n",
        "    t = correct_train[mb_index, :]\n",
        "\n",
        "    forward_propagation(x)\n",
        "    back_propagation(t)\n",
        "\n",
        "    update_wb()\n",
        "\n",
        "plt.plot(train_error_x, train_error_y, label=\"Train\")\n",
        "plt.plot(test_error_x, test_error_y, label=\"Test\")\n",
        "plt.legend()\n",
        "\n",
        "plt.xlabel(\"Epoch\")\n",
        "plt.ylabel(\"Error\")\n",
        "\n",
        "plt.show()\n",
        "\n",
        "forward_propagation(input_train)\n",
        "count_train = np.sum(np.argmax(output_layer.y, axis=1) == np.argmax(correct_train, axis=1))\n",
        "\n",
        "forward_propagation(input_test)\n",
        "count_test = np.sum(np.argmax(output_layer.y, axis=1) == np.argmax(correct_test, axis=1))\n",
        "\n",
        "print(\"Accuracy Train: \", str(count_train/n_train*100) + \"%\",\n",
        "      \"Accuracy Test: \", str(count_test/n_test*100) + \"%\")\n"
      ],
      "execution_count": 15,
      "outputs": [
        {
          "output_type": "stream",
          "name": "stdout",
          "text": [
            "Epoch: 0/1000 Error_train : 1.1006521871172625 Error_test: 1.1013944458055915\n",
            "Epoch: 100/1000 Error_train : 0.02326479644425348 Error_test: 0.07541554113398714\n",
            "Epoch: 200/1000 Error_train : 0.005901571517947568 Error_test: 0.09069786048816444\n",
            "Epoch: 300/1000 Error_train : 0.00255818215134104 Error_test: 0.10093697233131042\n",
            "Epoch: 400/1000 Error_train : 0.001510427387413724 Error_test: 0.11032802431878397\n",
            "Epoch: 500/1000 Error_train : 0.0010055471143193366 Error_test: 0.11887282139773321\n",
            "Epoch: 600/1000 Error_train : 0.0007361536772420987 Error_test: 0.12624462563560643\n",
            "Epoch: 700/1000 Error_train : 0.0005756823156960845 Error_test: 0.13270867125765962\n",
            "Epoch: 800/1000 Error_train : 0.0004653132960643207 Error_test: 0.13864636711741307\n",
            "Epoch: 900/1000 Error_train : 0.0003886139232263639 Error_test: 0.14409460363328913\n"
          ]
        },
        {
          "output_type": "display_data",
          "data": {
            "image/png": "[encoded data removed]",
            "text/plain": [
              "<Figure size 432x288 with 1 Axes>"
            ]
          },
          "metadata": {
            "needs_background": "light"
          }
        },
        {
          "output_type": "stream",
          "name": "stdout",
          "text": [
            "Accuracy Train:  100.0% Accuracy Test:  93.33333333333333%\n"
          ]
        }
      ]
    },
    {
      "cell_type": "code",
      "metadata": {
        "id": "eONh0S6KOuKO"
      },
      "source": [
        ""
      ],
      "execution_count": null,
      "outputs": []
    }
  ]
}