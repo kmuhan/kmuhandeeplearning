{
  "nbformat": 4,
  "nbformat_minor": 0,
  "metadata": {
    "colab": {
      "name": "longevity_regression.ipynb",
      "provenance": [],
      "authorship_tag": "ABX9TyO7nmwN+IeDMTPTifgFHexE",
      "include_colab_link": true
    },
    "kernelspec": {
      "name": "python3",
      "display_name": "Python 3"
    },
    "language_info": {
      "name": "python"
    }
  },
  "cells": [
    {
      "cell_type": "markdown",
      "metadata": {
        "id": "view-in-github",
        "colab_type": "text"
      },
      "source": [
        "<a href=\"https://colab.research.google.com/github/kmuhan/kmuhandeeplearning/blob/main/longevity_regression.ipynb\" target=\"_parent\"><img src=\"https://colab.research.google.com/assets/colab-badge.svg\" alt=\"Open In Colab\"/></a>"
      ]
    },
    {
      "cell_type": "markdown",
      "metadata": {
        "id": "nF1GvBFDjMQx"
      },
      "source": [
        "2학년 1학기 때 했던 선형 회귀 도출 프로젝트를 회귀 신경망 딥러닝으로 재구성 하고자 하였음"
      ]
    },
    {
      "cell_type": "markdown",
      "metadata": {
        "id": "vuJCSmPGowj0"
      },
      "source": [
        "전체 학습 data n = 4041 [weight, longevity] (150, 2)로 이루어져 있음\n",
        "\n",
        "입력층 뉴런: n = 1\n",
        "\n",
        "은닉층 뉴런: n = 25\n",
        "\n",
        "출력층 뉴런: n = 1\n",
        "\n",
        "은닉층 활성화 함수: Leaky ReLU\n",
        "\n",
        "출력층 함수: 항등함수\n",
        "\n",
        "E: MSE\n",
        "\n",
        "최적화 알고리즘: ADAGRAD + DROPOUT\n",
        "\n",
        "batch size: 40\n",
        "\n",
        "epoch: 1000\n"
      ]
    },
    {
      "cell_type": "code",
      "metadata": {
        "id": "eur7A9wfY-CE"
      },
      "source": [
        "from google.colab import drive\n",
        "import numpy as np\n",
        "import matplotlib.pyplot as plt\n",
        "\n",
        "animal_data = []\n",
        "\n",
        "file_path = \"/content/data_all.txt\"\n",
        "with open(file_path, 'r') as file:\n",
        "  for line in file:\n",
        "    p = line.strip('/n')\n",
        "    animal_data.append([float(eval(p)['weight']), float(eval(p)['longevity'])])\n",
        "\n",
        "animal_data = np.array(animal_data) # 데이터 개수는 4041개\n",
        "train_data = animal_data[:3000]\n",
        "test_data = animal_data[3000:]\n",
        "\n",
        "#train data와 test data를 구분하고, 소수 첫째 자리까지 반올림\n",
        "input_train = np.round_(train_data[:, 0], 1)\n",
        "correct_train = np.round(train_data[:, 1], 1)\n",
        "input_test = np.round(test_data[:, 0], 1)\n",
        "correct_test = np.round(test_data[:, 1], 1)\n",
        "\n",
        "n_train = len(input_train)\n",
        "n_test = len(input_test)\n",
        "\n",
        "n_in = 1\n",
        "n_mid = 25\n",
        "n_out = 1\n",
        "\n",
        "wb_width = 0.05 \n",
        "eta = 0.01\n",
        "epoch = 1000\n",
        "batch_size = 40\n",
        "interval = 50"
      ],
      "execution_count": null,
      "outputs": []
    },
    {
      "cell_type": "code",
      "metadata": {
        "id": "3_aNCgcSqoKC"
      },
      "source": [
        "class BaseLayer:\n",
        "  def __init__(self, n_upper, n):\n",
        "    self.w = wb_width * np.random.randn(n_upper, n)\n",
        "    self.b = wb_width * np.random.randn(n)\n",
        "\n",
        "    self.h_w = np.zeros((n_upper, n)) + 1e-8\n",
        "    self.h_b = np.zeros(n) + 1e-8\n",
        "\n",
        "  def update(self, eta):\n",
        "    self.h_w += self.grad_w * self.grad_w\n",
        "    self.w -= (eta / np.sqrt(self.h_w)) * self.grad_w\n",
        "\n",
        "    self.h_b += self.grad_b * self.grad_b\n",
        "    self.b -= (eta / np.sqrt(self.h_b)) * self.grad_b\n"
      ],
      "execution_count": null,
      "outputs": []
    },
    {
      "cell_type": "code",
      "metadata": {
        "id": "0GVHEWA7qsPq"
      },
      "source": [
        "class OutputLayer(BaseLayer):\n",
        "  def forward(self, x):\n",
        "    self.x = x\n",
        "    u = np.dot(x, self.w) + self.b\n",
        "    self.y = u\n",
        "  \n",
        "  def backward(self, t):\n",
        "    delta = self.y - t\n",
        "\n",
        "    self.grad_w = np.dot(self.x.T, delta)\n",
        "    self.grad_b = np.sum(delta, axis=0)\n",
        "\n",
        "    self.grad_x = np.dot(delta, self.w.T)"
      ],
      "execution_count": null,
      "outputs": []
    },
    {
      "cell_type": "code",
      "metadata": {
        "id": "OrStSQ82rMQ9"
      },
      "source": [
        "class MiddleLayer(BaseLayer):\n",
        "  def forward(self, x):\n",
        "    self.x = x\n",
        "    self.u = np.dot(x, self.w) + self.b\n",
        "    self.y = np.where(self.u <= 0, 0.001*self.u, self.u)\n",
        "\n",
        "  def backward(self, grad_y):\n",
        "    delta = grad_y * np.where(self.u <= 0, 0.001, 1)\n",
        "\n",
        "    self.grad_w = np.dot(self.x.T, delta)\n",
        "    self.grad_b = np.sum(delta, axis=0)\n",
        "\n",
        "    self.grad_x = np.dot(delta, self.w.T)"
      ],
      "execution_count": null,
      "outputs": []
    },
    {
      "cell_type": "code",
      "metadata": {
        "id": "rPwSTLZPs5vP"
      },
      "source": [
        "class Dropout:\n",
        "  def __init__(self, dropout_ratio):\n",
        "    self.dropout_ratio = dropout_ratio\n",
        "  \n",
        "  def forward(self, x, is_train):\n",
        "    if is_train:\n",
        "      rand = np.random.rand(*x.shape)\n",
        "      self.dropout = np.where(rand > self.dropout_ratio, 1, 0)\n",
        "      self.y = x * self.dropout_ratio\n",
        "    else:\n",
        "      self.y = (1 - self.dropout_ratio) * x\n",
        "    \n",
        "  def backward(self, grad_y):\n",
        "    self.grad_x = grad_y * self.dropout"
      ],
      "execution_count": null,
      "outputs": []
    },
    {
      "cell_type": "code",
      "metadata": {
        "id": "tcqHMVbds6o3"
      },
      "source": [
        "middle_layer_1 = MiddleLayer(n_in, n_mid)\n",
        "dropout_1 = Dropout(0.5)\n",
        "middle_layer_2 = MiddleLayer(n_mid, n_mid)\n",
        "dropout_2 = Dropout(0.5)\n",
        "middle_layer_3 = MiddleLayer(n_mid, n_mid)\n",
        "dropout_3 = Dropout(0.5)\n",
        "output_layer = OutputLayer(n_mid, n_out)"
      ],
      "execution_count": null,
      "outputs": []
    },
    {
      "cell_type": "code",
      "metadata": {
        "id": "ZjNB0Ed7tROZ"
      },
      "source": [
        "def forward_propagation(x, is_train):\n",
        "  middle_layer_1.forward(x)\n",
        "  dropout_1.forward(middle_layer_1.y, is_train)\n",
        "  middle_layer_2.forward(dropout_1.y)\n",
        "  dropout_2.forward(middle_layer_2.y, is_train)\n",
        "  middle_layer_3.forward(dropout_2.y)\n",
        "  dropout_3.forward(middle_layer_3.y, is_train)\n",
        "  output_layer.forward(dropout_3.y)\n",
        "\n",
        "def backward_propagation(t):\n",
        "  output_layer.backward(t)\n",
        "  dropout_3.backward(output_layer.grad_x)\n",
        "  middle_layer_3.backward(dropout_3.grad_x)\n",
        "  dropout_2.backward(output_layer.grad_x)\n",
        "  middle_layer_2.backward(dropout_2.grad_x)\n",
        "  dropout_1.backward(middle_layer_2.grad_x)\n",
        "  middle_layer_1.backward(dropout_1.grad_x)\n",
        "\n",
        "def update_wb():\n",
        "  middle_layer_1.update(eta)\n",
        "  middle_layer_2.update(eta)\n",
        "  middle_layer_3.update(eta)\n",
        "  output_layer.update(eta)\n",
        "\n",
        "def get_error(y, t):\n",
        "  return 1.0/2.0*np.sum(np.square(y - t))"
      ],
      "execution_count": null,
      "outputs": []
    },
    {
      "cell_type": "code",
      "metadata": {
        "id": "4NuUWN2xuh-y"
      },
      "source": [
        "train_error_x = []\n",
        "train_error_y = []\n",
        "test_error_x = []\n",
        "test_error_y = []"
      ],
      "execution_count": null,
      "outputs": []
    },
    {
      "cell_type": "code",
      "metadata": {
        "colab": {
          "base_uri": "https://localhost:8080/"
        },
        "id": "OXMACE2Tuk4Q",
        "outputId": "e247418c-b631-490c-9295-c34823e2d49d"
      },
      "source": [
        "n_batch = n_train // batch_size\n",
        "for i in range(epoch):\n",
        "  index_random = np.arange(n_train)\n",
        "  np.random.shuffle(index_random)\n",
        "  y_total = 0\n",
        "  t_total = 0\n",
        "\n",
        "  for j in range(n_batch):\n",
        "    mb_index = index_random[j*batch_size : (j+1)*batch_size]\n",
        "    x = input_train[mb_index]\n",
        "    t = correct_train[mb_index]\n",
        "    \n",
        "    x = np.array(x)\n",
        "    t = np.array(t)\n",
        "\n",
        "    x = np.reshape(x, (40, 1))\n",
        "    t = np.reshape(t, (40, 1))\n",
        "\n",
        "    forward_propagation(x, True)\n",
        "    backward_propagation(t)\n",
        "\n",
        "    update_wb()\n",
        "\n",
        "    y_total += np.sum(output_layer.y)\n",
        "    t_total += np.sum(t)\n",
        "  \n",
        "  forward_propagation(x, True)\n",
        "  error_train = get_error(y_total, t_total)\n",
        "  forward_propagation(np.reshape(input_test, (len(input_test), 1)), False)\n",
        "  error_test = get_error(np.sum(input_test), np.sum(correct_test))\n",
        "\n",
        "  test_error_x.append(i)\n",
        "  test_error_y.append(error_test)\n",
        "  train_error_x.append(i)\n",
        "  train_error_y.append(error_train)\n",
        "\n",
        "  if i%interval == 0:\n",
        "    print(\"Epoch: \" + str(i) + \"/\" + str(epoch),\n",
        "          \"Error_train : \" + str(error_train),\n",
        "          \"Error_test: \" + str(error_test))"
      ],
      "execution_count": null,
      "outputs": [
        {
          "output_type": "stream",
          "name": "stdout",
          "text": [
            "Epoch: 0/1000 Error_train : 1104210221.8362484 Error_test: 15880043612.480001\n",
            "Epoch: 50/1000 Error_train : 920023904.0933082 Error_test: 15880043612.480001\n",
            "Epoch: 100/1000 Error_train : 644780394.0658317 Error_test: 15880043612.480001\n",
            "Epoch: 150/1000 Error_train : 365800267.3814876 Error_test: 15880043612.480001\n",
            "Epoch: 200/1000 Error_train : 142295460.51634055 Error_test: 15880043612.480001\n",
            "Epoch: 250/1000 Error_train : 32040506.734212857 Error_test: 15880043612.480001\n",
            "Epoch: 300/1000 Error_train : 6491238.098869587 Error_test: 15880043612.480001\n",
            "Epoch: 350/1000 Error_train : 2298126.988539763 Error_test: 15880043612.480001\n",
            "Epoch: 400/1000 Error_train : 1037974.4010148597 Error_test: 15880043612.480001\n",
            "Epoch: 450/1000 Error_train : 1546976.9397683125 Error_test: 15880043612.480001\n",
            "Epoch: 500/1000 Error_train : 1732835.6191028184 Error_test: 15880043612.480001\n",
            "Epoch: 550/1000 Error_train : 1306993.2153618746 Error_test: 15880043612.480001\n",
            "Epoch: 600/1000 Error_train : 1260169.7203588828 Error_test: 15880043612.480001\n",
            "Epoch: 650/1000 Error_train : 731974.9147944776 Error_test: 15880043612.480001\n",
            "Epoch: 700/1000 Error_train : 565839.4154974181 Error_test: 15880043612.480001\n",
            "Epoch: 750/1000 Error_train : 476880.5364424192 Error_test: 15880043612.480001\n",
            "Epoch: 800/1000 Error_train : 539773.7377680897 Error_test: 15880043612.480001\n",
            "Epoch: 850/1000 Error_train : 567285.6806314468 Error_test: 15880043612.480001\n",
            "Epoch: 900/1000 Error_train : 662715.6703816897 Error_test: 15880043612.480001\n",
            "Epoch: 950/1000 Error_train : 435496.6543996569 Error_test: 15880043612.480001\n"
          ]
        }
      ]
    },
    {
      "cell_type": "code",
      "metadata": {
        "id": "aYR023JmxMxA",
        "colab": {
          "base_uri": "https://localhost:8080/",
          "height": 308
        },
        "outputId": "3b503341-846b-45cc-b23f-19d1bee50dad"
      },
      "source": [
        "\n",
        "plt.plot(train_error_x, train_error_y, label=\"Train\")\n",
        "# plt.plot(test_error_x, test_error_y, label=\"Test\")\n",
        "plt.legend()\n",
        "\n",
        "plt.xlabel(\"Epoch\")\n",
        "plt.ylabel(\"Error\")\n",
        "\n",
        "plt.show()\n",
        "\n",
        "forward_propagation([[10000]], True)\n",
        "print(\"longevity : \" + str(output_layer.y))"
      ],
      "execution_count": null,
      "outputs": [
        {
          "output_type": "display_data",
          "data": {
            "image/png": "[encoded data removed]",
            "text/plain": [
              "<Figure size 432x288 with 1 Axes>"
            ]
          },
          "metadata": {
            "needs_background": "light"
          }
        },
        {
          "output_type": "stream",
          "name": "stdout",
          "text": [
            "longevity : [[53.82104454]]\n"
          ]
        }
      ]
    }
  ]
}